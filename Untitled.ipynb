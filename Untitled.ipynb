{
 "cells": [
  {
   "cell_type": "code",
   "execution_count": 101,
   "metadata": {},
   "outputs": [],
   "source": [
    "import json\n",
    "import os\n",
    "\n",
    "from algoliasearch import algoliasearch\n",
    "from tutorial.chapter_index import chapters\n",
    "\n",
    "\n",
    "## Algolia Credentials\n",
    "\n",
    "client = algoliasearch.Client(\"7EK9KHJW8M\", os.environ['ALGOLIA_API_KEY'])\n",
    "index = client.init_index('dash_docs')\n",
    "\n",
    "dash_index = []"
   ]
  },
  {
   "cell_type": "code",
   "execution_count": 110,
   "metadata": {},
   "outputs": [
    {
     "name": "stdout",
     "output_type": "stream",
     "text": [
      "dash-html-components\n",
      "getting-started-part-2\n",
      "datepickerrange-examples\n",
      "search\n",
      "shared-state\n",
      "dropdown-examples\n",
      "radio-item-examples\n",
      "auth\n",
      "live-updates\n",
      "graphing\n",
      "external\n",
      "upload-examples\n",
      "plugins\n",
      "range-slider-examples\n",
      "gallery\n",
      "checklist-examples\n",
      "link-examples\n",
      "input-examples\n",
      "getting-started\n",
      "installation\n",
      "slider-examples\n",
      "introduction\n",
      "deployment\n",
      "dash-core-components\n",
      "markdown-examples\n",
      "state\n",
      "textarea-examples\n",
      "urls\n",
      "performance\n",
      "deployment-onpremise\n",
      "support\n",
      "datepickersingle-examples\n"
     ]
    }
   ],
   "source": [
    "for chapter in chapters:\n",
    "    print chapter"
   ]
  },
  {
   "cell_type": "code",
   "execution_count": 102,
   "metadata": {},
   "outputs": [],
   "source": [
    "for chapter in chapters:\n",
    "    chap = {}\n",
    "    chap['name'] = chapters[chapter]['name']\n",
    "    chap['permalink'] = 'https://plot.ly'+chapters[chapter]['url']\n",
    "    chap['description'] = chapters[chapter]['description']\n",
    "    chap_content = str(chapters[chapter]['content'])\n",
    "    chap_content = chap_content.replace(\"'\", \"\")\n",
    "    chap_content = chap_content.replace('\"', '')\n",
    "    chap_content = chap_content.replace('\\\\n', '')\n",
    "    chap['content'] = chap_content\n",
    "    dash_index.append(chap)"
   ]
  },
  {
   "cell_type": "code",
   "execution_count": 103,
   "metadata": {},
   "outputs": [],
   "source": [
    "dash_index_push = [dash_index[0],dash_index[2],dash_index[3],dash_index[4],dash_index[5],dash_index[6],\n",
    "                   dash_index[7],dash_index[8],dash_index[10],dash_index[11],dash_index[12],dash_index[13],\n",
    "                   dash_index[14],dash_index[16],dash_index[17],dash_index[19],dash_index[20],dash_index[21],\n",
    "                   dash_index[22],dash_index[23],dash_index[24],dash_index[25],dash_index[26],dash_index[27],\n",
    "                   dash_index[28],dash_index[29],dash_index[30],dash_index[31]]"
   ]
  },
  {
   "cell_type": "code",
   "execution_count": 104,
   "metadata": {},
   "outputs": [
    {
     "data": {
      "text/plain": [
       "{u'objectIDs': [u'46044481',\n",
       "  u'46044491',\n",
       "  u'46044501',\n",
       "  u'46044511',\n",
       "  u'46044521',\n",
       "  u'46044531',\n",
       "  u'46044541',\n",
       "  u'46044551',\n",
       "  u'46044561',\n",
       "  u'46044571',\n",
       "  u'46044581',\n",
       "  u'46044591',\n",
       "  u'46044601',\n",
       "  u'46044611',\n",
       "  u'46044621',\n",
       "  u'46044631',\n",
       "  u'46044641',\n",
       "  u'46044651',\n",
       "  u'46044661',\n",
       "  u'46044671',\n",
       "  u'46044681',\n",
       "  u'46044691',\n",
       "  u'46044701',\n",
       "  u'46044711',\n",
       "  u'46044721',\n",
       "  u'46044731',\n",
       "  u'46044741',\n",
       "  u'46044751'],\n",
       " u'taskID': 876397331}"
      ]
     },
     "execution_count": 104,
     "metadata": {},
     "output_type": "execute_result"
    }
   ],
   "source": [
    "index.clear_index()\n",
    "index.add_objects(dash_index_push)"
   ]
  },
  {
   "cell_type": "code",
   "execution_count": 99,
   "metadata": {},
   "outputs": [],
   "source": [
    "##\n",
    "too_large=[dash_index[1],dash_index[9],dash_index[18]]"
   ]
  },
  {
   "cell_type": "code",
   "execution_count": 109,
   "metadata": {},
   "outputs": [
    {
     "data": {
      "text/plain": [
       "'Part 2. The Dash Layout'"
      ]
     },
     "execution_count": 109,
     "metadata": {},
     "output_type": "execute_result"
    }
   ],
   "source": [
    "dash_index[18]['name']"
   ]
  },
  {
   "cell_type": "code",
   "execution_count": 111,
   "metadata": {},
   "outputs": [],
   "source": [
    "import numpy as np\n",
    "import plotly.figure_factory as ff"
   ]
  },
  {
   "cell_type": "code",
   "execution_count": 112,
   "metadata": {},
   "outputs": [],
   "source": [
    "X = np.array([[1, 2, 3, 4], [1, 1, 3, 4], [1, 2, 1, 4], [1, 2, 3, 1]])\n",
    "dendro = ff.create_dendrogram(X=X)"
   ]
  },
  {
   "cell_type": "code",
   "execution_count": 113,
   "metadata": {},
   "outputs": [
    {
     "data": {
      "text/plain": [
       "{'data': [{'hoverinfo': 'text',\n",
       "   'marker': {'color': 'rgb(61,153,112)'},\n",
       "   'mode': 'lines',\n",
       "   'text': None,\n",
       "   'type': 'scatter',\n",
       "   'x': array([ 25.,  25.,  35.,  35.]),\n",
       "   'xaxis': 'x',\n",
       "   'y': array([ 0.,  1.,  1.,  0.]),\n",
       "   'yaxis': 'y'},\n",
       "  {'hoverinfo': 'text',\n",
       "   'marker': {'color': 'rgb(61,153,112)'},\n",
       "   'mode': 'lines',\n",
       "   'text': None,\n",
       "   'type': 'scatter',\n",
       "   'x': array([ 15.,  15.,  30.,  30.]),\n",
       "   'xaxis': 'x',\n",
       "   'y': array([ 0.        ,  2.23606798,  2.23606798,  1.        ]),\n",
       "   'yaxis': 'y'},\n",
       "  {'hoverinfo': 'text',\n",
       "   'marker': {'color': 'rgb(0,116,217)'},\n",
       "   'mode': 'lines',\n",
       "   'text': None,\n",
       "   'type': 'scatter',\n",
       "   'x': array([  5. ,   5. ,  22.5,  22.5]),\n",
       "   'xaxis': 'x',\n",
       "   'y': array([ 0.        ,  3.60555128,  3.60555128,  2.23606798]),\n",
       "   'yaxis': 'y'}],\n",
       " 'layout': {'autosize': False,\n",
       "  'height': '100%',\n",
       "  'hovermode': 'closest',\n",
       "  'showlegend': False,\n",
       "  'width': '100%',\n",
       "  'xaxis': {'mirror': 'allticks',\n",
       "   'rangemode': 'tozero',\n",
       "   'showgrid': False,\n",
       "   'showline': True,\n",
       "   'showticklabels': True,\n",
       "   'tickmode': 'array',\n",
       "   'ticks': 'outside',\n",
       "   'ticktext': array(['3', '2', '0', '1'],\n",
       "         dtype='|S1'),\n",
       "   'tickvals': [5.0, 15.0, 25.0, 35.0],\n",
       "   'type': 'linear',\n",
       "   'zeroline': False},\n",
       "  'yaxis': {'mirror': 'allticks',\n",
       "   'rangemode': 'tozero',\n",
       "   'showgrid': False,\n",
       "   'showline': True,\n",
       "   'showticklabels': True,\n",
       "   'ticks': 'outside',\n",
       "   'type': 'linear',\n",
       "   'zeroline': False}}}"
      ]
     },
     "execution_count": 113,
     "metadata": {},
     "output_type": "execute_result"
    }
   ],
   "source": [
    "dendro"
   ]
  },
  {
   "cell_type": "code",
   "execution_count": 118,
   "metadata": {},
   "outputs": [
    {
     "data": {
      "text/plain": [
       "{'data': [{'hoverinfo': 'text',\n",
       "   'marker': {'color': 'rgb(61,153,112)'},\n",
       "   'mode': 'lines',\n",
       "   'text': None,\n",
       "   'type': 'scatter',\n",
       "   'x': array([ 25.,  25.,  35.,  35.]),\n",
       "   'xaxis': 'x',\n",
       "   'y': array([ 0.,  1.,  1.,  0.]),\n",
       "   'yaxis': 'y'},\n",
       "  {'hoverinfo': 'text',\n",
       "   'marker': {'color': 'rgb(61,153,112)'},\n",
       "   'mode': 'lines',\n",
       "   'text': None,\n",
       "   'type': 'scatter',\n",
       "   'x': array([ 15.,  15.,  30.,  30.]),\n",
       "   'xaxis': 'x',\n",
       "   'y': array([ 0.        ,  2.23606798,  2.23606798,  1.        ]),\n",
       "   'yaxis': 'y'},\n",
       "  {'hoverinfo': 'text',\n",
       "   'marker': {'color': 'rgb(0,116,217)'},\n",
       "   'mode': 'lines',\n",
       "   'text': None,\n",
       "   'type': 'scatter',\n",
       "   'x': array([  5. ,   5. ,  22.5,  22.5]),\n",
       "   'xaxis': 'x',\n",
       "   'y': array([ 0.        ,  3.60555128,  3.60555128,  2.23606798]),\n",
       "   'yaxis': 'y'}],\n",
       " 'layout': {'autosize': False,\n",
       "  'height': '100%',\n",
       "  'hovermode': 'closest',\n",
       "  'showlegend': False,\n",
       "  'width': '100%',\n",
       "  'xaxis': {'mirror': 'allticks',\n",
       "   'rangemode': 'tozero',\n",
       "   'showgrid': False,\n",
       "   'showline': True,\n",
       "   'showticklabels': True,\n",
       "   'tickmode': 'array',\n",
       "   'ticks': 'outside',\n",
       "   'ticktext': array(['3', '2', '0', '1'],\n",
       "         dtype='|S1'),\n",
       "   'tickvals': [5.0, 15.0, 25.0, 35.0],\n",
       "   'type': 'linear',\n",
       "   'zeroline': False},\n",
       "  'yaxis': {'mirror': 'allticks',\n",
       "   'rangemode': 'tozero',\n",
       "   'showgrid': False,\n",
       "   'showline': True,\n",
       "   'showticklabels': True,\n",
       "   'ticks': 'outside',\n",
       "   'type': 'linear',\n",
       "   'zeroline': False}}}"
      ]
     },
     "execution_count": 118,
     "metadata": {},
     "output_type": "execute_result"
    }
   ],
   "source": [
    "expected_dendro"
   ]
  },
  {
   "cell_type": "code",
   "execution_count": 116,
   "metadata": {},
   "outputs": [],
   "source": [
    "expected_dendro = go.Figure(\n",
    "            data=go.Data([\n",
    "                go.Scatter(\n",
    "                    x=np.array([25., 25., 35., 35.]),\n",
    "                    y=np.array([0., 1., 1., 0.]),\n",
    "                    marker=go.Marker(color='rgb(61,153,112)'),\n",
    "                    mode='lines',\n",
    "                    xaxis='x',\n",
    "                    yaxis='y',\n",
    "                    hoverinfo='text',\n",
    "                    text=None\n",
    "                ),\n",
    "                go.Scatter(\n",
    "                    x=np.array([15., 15., 30., 30.]),\n",
    "                    y=np.array([0., 2.23606798, 2.23606798, 1.]),\n",
    "                    marker=go.Marker(color='rgb(61,153,112)'),\n",
    "                    mode='lines',\n",
    "                    xaxis='x',\n",
    "                    yaxis='y',\n",
    "                    hoverinfo='text',\n",
    "                    text=None\n",
    "                ),\n",
    "                go.Scatter(\n",
    "                    x=np.array([5., 5., 22.5, 22.5]),\n",
    "                    y=np.array([0., 3.60555128, 3.60555128, 2.23606798]),\n",
    "                    marker=go.Marker(color='rgb(0,116,217)'),\n",
    "                    mode='lines',\n",
    "                    xaxis='x',\n",
    "                    yaxis='y',\n",
    "                    hoverinfo='text',\n",
    "                    text=None\n",
    "                )\n",
    "            ]),\n",
    "            layout=go.Layout(\n",
    "                autosize=False,\n",
    "                height='100%',\n",
    "                hovermode='closest',\n",
    "                showlegend=False,\n",
    "                width='100%',\n",
    "                xaxis=go.XAxis(\n",
    "                    mirror='allticks',\n",
    "                    rangemode='tozero',\n",
    "                    showgrid=False,\n",
    "                    showline=True,\n",
    "                    showticklabels=True,\n",
    "                    tickmode='array',\n",
    "                    ticks='outside',\n",
    "                    ticktext=np.array(['3', '2', '0', '1']),\n",
    "                    tickvals=[5.0, 15.0, 25.0, 35.0],\n",
    "                    type='linear',\n",
    "                    zeroline=False\n",
    "                ),\n",
    "                yaxis=go.YAxis(\n",
    "                    mirror='allticks',\n",
    "                    rangemode='tozero',\n",
    "                    showgrid=False,\n",
    "                    showline=True,\n",
    "                    showticklabels=True,\n",
    "                    ticks='outside',\n",
    "                    type='linear',\n",
    "                    zeroline=False\n",
    "                )\n",
    "            )\n",
    "        )"
   ]
  },
  {
   "cell_type": "code",
   "execution_count": 117,
   "metadata": {},
   "outputs": [
    {
     "data": {
      "text/plain": [
       "{'data': [{'hoverinfo': 'text',\n",
       "   'marker': {'color': 'rgb(61,153,112)'},\n",
       "   'mode': 'lines',\n",
       "   'text': None,\n",
       "   'type': 'scatter',\n",
       "   'x': array([ 25.,  25.,  35.,  35.]),\n",
       "   'xaxis': 'x',\n",
       "   'y': array([ 0.,  1.,  1.,  0.]),\n",
       "   'yaxis': 'y'},\n",
       "  {'hoverinfo': 'text',\n",
       "   'marker': {'color': 'rgb(61,153,112)'},\n",
       "   'mode': 'lines',\n",
       "   'text': None,\n",
       "   'type': 'scatter',\n",
       "   'x': array([ 15.,  15.,  30.,  30.]),\n",
       "   'xaxis': 'x',\n",
       "   'y': array([ 0.        ,  2.23606798,  2.23606798,  1.        ]),\n",
       "   'yaxis': 'y'},\n",
       "  {'hoverinfo': 'text',\n",
       "   'marker': {'color': 'rgb(0,116,217)'},\n",
       "   'mode': 'lines',\n",
       "   'text': None,\n",
       "   'type': 'scatter',\n",
       "   'x': array([  5. ,   5. ,  22.5,  22.5]),\n",
       "   'xaxis': 'x',\n",
       "   'y': array([ 0.        ,  3.60555128,  3.60555128,  2.23606798]),\n",
       "   'yaxis': 'y'}],\n",
       " 'layout': {'autosize': False,\n",
       "  'height': '100%',\n",
       "  'hovermode': 'closest',\n",
       "  'showlegend': False,\n",
       "  'width': '100%',\n",
       "  'xaxis': {'mirror': 'allticks',\n",
       "   'rangemode': 'tozero',\n",
       "   'showgrid': False,\n",
       "   'showline': True,\n",
       "   'showticklabels': True,\n",
       "   'tickmode': 'array',\n",
       "   'ticks': 'outside',\n",
       "   'ticktext': array(['3', '2', '0', '1'],\n",
       "         dtype='|S1'),\n",
       "   'tickvals': [5.0, 15.0, 25.0, 35.0],\n",
       "   'type': 'linear',\n",
       "   'zeroline': False},\n",
       "  'yaxis': {'mirror': 'allticks',\n",
       "   'rangemode': 'tozero',\n",
       "   'showgrid': False,\n",
       "   'showline': True,\n",
       "   'showticklabels': True,\n",
       "   'ticks': 'outside',\n",
       "   'type': 'linear',\n",
       "   'zeroline': False}}}"
      ]
     },
     "execution_count": 117,
     "metadata": {},
     "output_type": "execute_result"
    }
   ],
   "source": [
    "expected_dendro"
   ]
  },
  {
   "cell_type": "code",
   "execution_count": null,
   "metadata": {},
   "outputs": [],
   "source": []
  }
 ],
 "metadata": {
  "kernelspec": {
   "display_name": "Python 2",
   "language": "python",
   "name": "python2"
  },
  "language_info": {
   "codemirror_mode": {
    "name": "ipython",
    "version": 2
   },
   "file_extension": ".py",
   "mimetype": "text/x-python",
   "name": "python",
   "nbconvert_exporter": "python",
   "pygments_lexer": "ipython2",
   "version": "2.7.10"
  }
 },
 "nbformat": 4,
 "nbformat_minor": 2
}
